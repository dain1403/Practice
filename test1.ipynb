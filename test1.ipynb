{
 "cells": [
  {
   "cell_type": "markdown",
   "metadata": {},
   "source": [
    "##### [프로그래밍 예제 01]\n",
    "임의의 실수 x를 입력받아 방정식 y= $\\sqrt{(x-1)(x-3)^2(x-5)^3}$ 를 계산하여 출력하는 프로그램을 작성하시오"
   ]
  },
  {
   "cell_type": "code",
   "execution_count": 8,
   "metadata": {},
   "outputs": [
    {
     "name": "stdout",
     "output_type": "stream",
     "text": [
      "임의의 실수를 입력하세요 : 10\n",
      "234.7871376374779\n"
     ]
    }
   ],
   "source": [
    "from math import sqrt\n",
    "x = float(input(\"임의의 실수를 입력하세요 : \"))\n",
    "y = sqrt((x-1)*((x-3)**2)*((x-5)**3))\n",
    "print(y)"
   ]
  },
  {
   "cell_type": "markdown",
   "metadata": {},
   "source": [
    "##### [프로그래밍 예제 02]\n",
    "실수 x와 y를 입력 받아 $5 <= log(x^y) <= 10$을 만족하는지 아닌지를 판별하는 프로그램을 작성하시오"
   ]
  },
  {
   "cell_type": "code",
   "execution_count": 11,
   "metadata": {},
   "outputs": [
    {
     "name": "stdout",
     "output_type": "stream",
     "text": [
      "실수 x 입력 : 10\n",
      "실수 y 입력 : 6\n",
      "만족\n"
     ]
    }
   ],
   "source": [
    "import math\n",
    "x = float(input(\"실수 x 입력 : \"))\n",
    "y = float(input(\"실수 y 입력 : \"))\n",
    "result = math.log10(x**y)\n",
    "if result >= 5 and result <= 10 :\n",
    "    print(\"만족\")\n",
    "else :\n",
    "    print(\"만족하지 않음\")"
   ]
  },
  {
   "cell_type": "markdown",
   "metadata": {},
   "source": [
    "##### [프로그래밍 예제 03]\n",
    "양의 정수 n과 m을 입력 받아 $nCm = \\frac{n×(n-1)×…×(n-m+1)}{(m×(m-1)×…×1}$프로그램을 작성하시오"
   ]
  },
  {
   "cell_type": "code",
   "execution_count": 18,
   "metadata": {},
   "outputs": [
    {
     "name": "stdout",
     "output_type": "stream",
     "text": [
      "정수 n 입력 : 5\n",
      "정수 m 입력 : 3\n",
      "결과 : 10\n"
     ]
    }
   ],
   "source": [
    "n = int(input(\"정수 n 입력 : \"))\n",
    "m = int(input(\"정수 m 입력 : \"))\n",
    "up = 1\n",
    "down = 1\n",
    "j = 1\n",
    "for i in range(0,m) :\n",
    "    up *= n-i\n",
    "for j in range(1,m+1) :\n",
    "    down *= j\n",
    "    \n",
    "result = up / down\n",
    "\n",
    "print(\"결과 : %d\"%result)"
   ]
  },
  {
   "cell_type": "markdown",
   "metadata": {},
   "source": [
    "##### [프로그래밍 예제 04]\n",
    "임의의 정수 N을 입력 받아 다음과 같이 출력하는 프로그램을 작성하시오\n",
    "1223334444...NN...N"
   ]
  },
  {
   "cell_type": "code",
   "execution_count": 28,
   "metadata": {},
   "outputs": [
    {
     "name": "stdout",
     "output_type": "stream",
     "text": [
      "임의의 정수를 입력하세요 : 7\n",
      "1223334444555556666667777777"
     ]
    }
   ],
   "source": [
    "N = int(input(\"임의의 정수를 입력하세요 : \"))\n",
    "for i in range(1, N+1):\n",
    "    for j in range(0,i):\n",
    "        print(\"%d\"%i,end='')"
   ]
  },
  {
   "cell_type": "code",
   "execution_count": null,
   "metadata": {},
   "outputs": [],
   "source": []
  }
 ],
 "metadata": {
  "kernelspec": {
   "display_name": "Python 3",
   "language": "python",
   "name": "python3"
  },
  "language_info": {
   "codemirror_mode": {
    "name": "ipython",
    "version": 3
   },
   "file_extension": ".py",
   "mimetype": "text/x-python",
   "name": "python",
   "nbconvert_exporter": "python",
   "pygments_lexer": "ipython3",
   "version": "3.7.6"
  }
 },
 "nbformat": 4,
 "nbformat_minor": 4
}
