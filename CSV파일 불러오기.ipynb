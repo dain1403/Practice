{
 "cells": [
  {
   "cell_type": "code",
   "execution_count": 1,
   "metadata": {},
   "outputs": [],
   "source": [
    "import pandas as pd\n",
    "import os\n",
    "import datetime"
   ]
  },
  {
   "cell_type": "markdown",
   "metadata": {},
   "source": [
    "# 여러 파일 열고 합치기.... 폴더 안에 있는 파일 합치기 "
   ]
  },
  {
   "cell_type": "code",
   "execution_count": 2,
   "metadata": {},
   "outputs": [],
   "source": [
    "path = 'data/2020.08.13/'\n",
    "lists = os.listdir(path)"
   ]
  },
  {
   "cell_type": "code",
   "execution_count": 3,
   "metadata": {},
   "outputs": [],
   "source": [
    "result = pd.DataFrame()"
   ]
  },
  {
   "cell_type": "code",
   "execution_count": 4,
   "metadata": {},
   "outputs": [
    {
     "data": {
      "text/html": [
       "<div>\n",
       "<style scoped>\n",
       "    .dataframe tbody tr th:only-of-type {\n",
       "        vertical-align: middle;\n",
       "    }\n",
       "\n",
       "    .dataframe tbody tr th {\n",
       "        vertical-align: top;\n",
       "    }\n",
       "\n",
       "    .dataframe thead th {\n",
       "        text-align: right;\n",
       "    }\n",
       "</style>\n",
       "<table border=\"1\" class=\"dataframe\">\n",
       "  <thead>\n",
       "    <tr style=\"text-align: right;\">\n",
       "      <th></th>\n",
       "    </tr>\n",
       "  </thead>\n",
       "  <tbody>\n",
       "  </tbody>\n",
       "</table>\n",
       "</div>"
      ],
      "text/plain": [
       "Empty DataFrame\n",
       "Columns: []\n",
       "Index: []"
      ]
     },
     "execution_count": 4,
     "metadata": {},
     "output_type": "execute_result"
    }
   ],
   "source": [
    "result"
   ]
  },
  {
   "cell_type": "code",
   "execution_count": 5,
   "metadata": {},
   "outputs": [
    {
     "data": {
      "text/plain": [
       "'2020.08.13'"
      ]
     },
     "execution_count": 5,
     "metadata": {},
     "output_type": "execute_result"
    }
   ],
   "source": [
    "lists[0][0:10]"
   ]
  },
  {
   "cell_type": "code",
   "execution_count": 6,
   "metadata": {},
   "outputs": [],
   "source": [
    "x = path.split('/')\n",
    "filename = lists[0][0:10]\n",
    "year,month,day = (int(x) for x in filename.split('.'))    \n",
    "day = datetime.date(year, month, day).weekday()"
   ]
  },
  {
   "cell_type": "code",
   "execution_count": 7,
   "metadata": {},
   "outputs": [],
   "source": [
    "for i in lists:\n",
    "    df = pd.read_csv(path+i, header=None)\n",
    "    df['Date'] = \"202000813\"\n",
    "    df['Day'] = day\n",
    "    df['Time']  = i[11:15]\n",
    "    result = pd.concat([result, df])"
   ]
  },
  {
   "cell_type": "code",
   "execution_count": 8,
   "metadata": {},
   "outputs": [],
   "source": [
    "result.rename(columns={0:'Link_id', 1:'Speed_car', 2:'Time_car'}, inplace=True)"
   ]
  },
  {
   "cell_type": "code",
   "execution_count": 9,
   "metadata": {},
   "outputs": [
    {
     "data": {
      "text/html": [
       "<div>\n",
       "<style scoped>\n",
       "    .dataframe tbody tr th:only-of-type {\n",
       "        vertical-align: middle;\n",
       "    }\n",
       "\n",
       "    .dataframe tbody tr th {\n",
       "        vertical-align: top;\n",
       "    }\n",
       "\n",
       "    .dataframe thead th {\n",
       "        text-align: right;\n",
       "    }\n",
       "</style>\n",
       "<table border=\"1\" class=\"dataframe\">\n",
       "  <thead>\n",
       "    <tr style=\"text-align: right;\">\n",
       "      <th></th>\n",
       "      <th>Link_id</th>\n",
       "      <th>Speed_car</th>\n",
       "      <th>Time_car</th>\n",
       "      <th>Date</th>\n",
       "      <th>Day</th>\n",
       "      <th>Time</th>\n",
       "    </tr>\n",
       "  </thead>\n",
       "  <tbody>\n",
       "    <tr>\n",
       "      <th>0</th>\n",
       "      <td>1000000301</td>\n",
       "      <td>33</td>\n",
       "      <td>17</td>\n",
       "      <td>202000813</td>\n",
       "      <td>3</td>\n",
       "      <td>0000</td>\n",
       "    </tr>\n",
       "    <tr>\n",
       "      <th>1</th>\n",
       "      <td>1000000302</td>\n",
       "      <td>23</td>\n",
       "      <td>17</td>\n",
       "      <td>202000813</td>\n",
       "      <td>3</td>\n",
       "      <td>0000</td>\n",
       "    </tr>\n",
       "    <tr>\n",
       "      <th>2</th>\n",
       "      <td>1000000303</td>\n",
       "      <td>15</td>\n",
       "      <td>17</td>\n",
       "      <td>202000813</td>\n",
       "      <td>3</td>\n",
       "      <td>0000</td>\n",
       "    </tr>\n",
       "    <tr>\n",
       "      <th>3</th>\n",
       "      <td>1000000401</td>\n",
       "      <td>28</td>\n",
       "      <td>19</td>\n",
       "      <td>202000813</td>\n",
       "      <td>3</td>\n",
       "      <td>0000</td>\n",
       "    </tr>\n",
       "    <tr>\n",
       "      <th>4</th>\n",
       "      <td>1000000402</td>\n",
       "      <td>20</td>\n",
       "      <td>19</td>\n",
       "      <td>202000813</td>\n",
       "      <td>3</td>\n",
       "      <td>0000</td>\n",
       "    </tr>\n",
       "    <tr>\n",
       "      <th>...</th>\n",
       "      <td>...</td>\n",
       "      <td>...</td>\n",
       "      <td>...</td>\n",
       "      <td>...</td>\n",
       "      <td>...</td>\n",
       "      <td>...</td>\n",
       "    </tr>\n",
       "    <tr>\n",
       "      <th>35497</th>\n",
       "      <td>2810052200</td>\n",
       "      <td>18</td>\n",
       "      <td>100</td>\n",
       "      <td>202000813</td>\n",
       "      <td>3</td>\n",
       "      <td>1640</td>\n",
       "    </tr>\n",
       "    <tr>\n",
       "      <th>35498</th>\n",
       "      <td>2850054405</td>\n",
       "      <td>402</td>\n",
       "      <td>98</td>\n",
       "      <td>202000813</td>\n",
       "      <td>3</td>\n",
       "      <td>1640</td>\n",
       "    </tr>\n",
       "    <tr>\n",
       "      <th>35499</th>\n",
       "      <td>2850054501</td>\n",
       "      <td>463</td>\n",
       "      <td>47</td>\n",
       "      <td>202000813</td>\n",
       "      <td>3</td>\n",
       "      <td>1640</td>\n",
       "    </tr>\n",
       "    <tr>\n",
       "      <th>35500</th>\n",
       "      <td>3000039201</td>\n",
       "      <td>435</td>\n",
       "      <td>77</td>\n",
       "      <td>202000813</td>\n",
       "      <td>3</td>\n",
       "      <td>1640</td>\n",
       "    </tr>\n",
       "    <tr>\n",
       "      <th>35501</th>\n",
       "      <td>3000039301</td>\n",
       "      <td>341</td>\n",
       "      <td>99</td>\n",
       "      <td>202000813</td>\n",
       "      <td>3</td>\n",
       "      <td>1640</td>\n",
       "    </tr>\n",
       "  </tbody>\n",
       "</table>\n",
       "<p>2515316 rows × 6 columns</p>\n",
       "</div>"
      ],
      "text/plain": [
       "          Link_id  Speed_car  Time_car       Date  Day  Time\n",
       "0      1000000301         33        17  202000813    3  0000\n",
       "1      1000000302         23        17  202000813    3  0000\n",
       "2      1000000303         15        17  202000813    3  0000\n",
       "3      1000000401         28        19  202000813    3  0000\n",
       "4      1000000402         20        19  202000813    3  0000\n",
       "...           ...        ...       ...        ...  ...   ...\n",
       "35497  2810052200         18       100  202000813    3  1640\n",
       "35498  2850054405        402        98  202000813    3  1640\n",
       "35499  2850054501        463        47  202000813    3  1640\n",
       "35500  3000039201        435        77  202000813    3  1640\n",
       "35501  3000039301        341        99  202000813    3  1640\n",
       "\n",
       "[2515316 rows x 6 columns]"
      ]
     },
     "execution_count": 9,
     "metadata": {},
     "output_type": "execute_result"
    }
   ],
   "source": [
    "result"
   ]
  },
  {
   "cell_type": "code",
   "execution_count": 10,
   "metadata": {},
   "outputs": [],
   "source": [
    "# 정렬\n",
    "result.sort_values(by='Time', inplace = True)"
   ]
  },
  {
   "cell_type": "code",
   "execution_count": 11,
   "metadata": {},
   "outputs": [],
   "source": [
    "result.reset_index(drop=True, inplace=True)"
   ]
  },
  {
   "cell_type": "code",
   "execution_count": 12,
   "metadata": {},
   "outputs": [
    {
     "data": {
      "text/html": [
       "<div>\n",
       "<style scoped>\n",
       "    .dataframe tbody tr th:only-of-type {\n",
       "        vertical-align: middle;\n",
       "    }\n",
       "\n",
       "    .dataframe tbody tr th {\n",
       "        vertical-align: top;\n",
       "    }\n",
       "\n",
       "    .dataframe thead th {\n",
       "        text-align: right;\n",
       "    }\n",
       "</style>\n",
       "<table border=\"1\" class=\"dataframe\">\n",
       "  <thead>\n",
       "    <tr style=\"text-align: right;\">\n",
       "      <th></th>\n",
       "      <th>Link_id</th>\n",
       "      <th>Speed_car</th>\n",
       "      <th>Time_car</th>\n",
       "      <th>Date</th>\n",
       "      <th>Day</th>\n",
       "      <th>Time</th>\n",
       "    </tr>\n",
       "  </thead>\n",
       "  <tbody>\n",
       "    <tr>\n",
       "      <th>0</th>\n",
       "      <td>1000000301</td>\n",
       "      <td>33</td>\n",
       "      <td>17</td>\n",
       "      <td>202000813</td>\n",
       "      <td>3</td>\n",
       "      <td>0000</td>\n",
       "    </tr>\n",
       "    <tr>\n",
       "      <th>1</th>\n",
       "      <td>2160063400</td>\n",
       "      <td>16</td>\n",
       "      <td>40</td>\n",
       "      <td>202000813</td>\n",
       "      <td>3</td>\n",
       "      <td>0000</td>\n",
       "    </tr>\n",
       "    <tr>\n",
       "      <th>2</th>\n",
       "      <td>2160063300</td>\n",
       "      <td>57</td>\n",
       "      <td>11</td>\n",
       "      <td>202000813</td>\n",
       "      <td>3</td>\n",
       "      <td>0000</td>\n",
       "    </tr>\n",
       "    <tr>\n",
       "      <th>3</th>\n",
       "      <td>2160063200</td>\n",
       "      <td>26</td>\n",
       "      <td>24</td>\n",
       "      <td>202000813</td>\n",
       "      <td>3</td>\n",
       "      <td>0000</td>\n",
       "    </tr>\n",
       "    <tr>\n",
       "      <th>4</th>\n",
       "      <td>2160063100</td>\n",
       "      <td>42</td>\n",
       "      <td>21</td>\n",
       "      <td>202000813</td>\n",
       "      <td>3</td>\n",
       "      <td>0000</td>\n",
       "    </tr>\n",
       "    <tr>\n",
       "      <th>...</th>\n",
       "      <td>...</td>\n",
       "      <td>...</td>\n",
       "      <td>...</td>\n",
       "      <td>...</td>\n",
       "      <td>...</td>\n",
       "      <td>...</td>\n",
       "    </tr>\n",
       "    <tr>\n",
       "      <th>2515311</th>\n",
       "      <td>1640027900</td>\n",
       "      <td>15</td>\n",
       "      <td>24</td>\n",
       "      <td>202000813</td>\n",
       "      <td>3</td>\n",
       "      <td>1640</td>\n",
       "    </tr>\n",
       "    <tr>\n",
       "      <th>2515312</th>\n",
       "      <td>1640028000</td>\n",
       "      <td>16</td>\n",
       "      <td>16</td>\n",
       "      <td>202000813</td>\n",
       "      <td>3</td>\n",
       "      <td>1640</td>\n",
       "    </tr>\n",
       "    <tr>\n",
       "      <th>2515313</th>\n",
       "      <td>1640028100</td>\n",
       "      <td>14</td>\n",
       "      <td>17</td>\n",
       "      <td>202000813</td>\n",
       "      <td>3</td>\n",
       "      <td>1640</td>\n",
       "    </tr>\n",
       "    <tr>\n",
       "      <th>2515314</th>\n",
       "      <td>1640027500</td>\n",
       "      <td>27</td>\n",
       "      <td>15</td>\n",
       "      <td>202000813</td>\n",
       "      <td>3</td>\n",
       "      <td>1640</td>\n",
       "    </tr>\n",
       "    <tr>\n",
       "      <th>2515315</th>\n",
       "      <td>3000039301</td>\n",
       "      <td>341</td>\n",
       "      <td>99</td>\n",
       "      <td>202000813</td>\n",
       "      <td>3</td>\n",
       "      <td>1640</td>\n",
       "    </tr>\n",
       "  </tbody>\n",
       "</table>\n",
       "<p>2515316 rows × 6 columns</p>\n",
       "</div>"
      ],
      "text/plain": [
       "            Link_id  Speed_car  Time_car       Date  Day  Time\n",
       "0        1000000301         33        17  202000813    3  0000\n",
       "1        2160063400         16        40  202000813    3  0000\n",
       "2        2160063300         57        11  202000813    3  0000\n",
       "3        2160063200         26        24  202000813    3  0000\n",
       "4        2160063100         42        21  202000813    3  0000\n",
       "...             ...        ...       ...        ...  ...   ...\n",
       "2515311  1640027900         15        24  202000813    3  1640\n",
       "2515312  1640028000         16        16  202000813    3  1640\n",
       "2515313  1640028100         14        17  202000813    3  1640\n",
       "2515314  1640027500         27        15  202000813    3  1640\n",
       "2515315  3000039301        341        99  202000813    3  1640\n",
       "\n",
       "[2515316 rows x 6 columns]"
      ]
     },
     "execution_count": 12,
     "metadata": {},
     "output_type": "execute_result"
    }
   ],
   "source": [
    "result"
   ]
  },
  {
   "cell_type": "code",
   "execution_count": 13,
   "metadata": {},
   "outputs": [],
   "source": [
    "# 파일 저장\n",
    "result.to_csv('202000813.csv', index=False)"
   ]
  },
  {
   "cell_type": "code",
   "execution_count": null,
   "metadata": {},
   "outputs": [],
   "source": []
  }
 ],
 "metadata": {
  "kernelspec": {
   "display_name": "Python 3",
   "language": "python",
   "name": "python3"
  },
  "language_info": {
   "codemirror_mode": {
    "name": "ipython",
    "version": 3
   },
   "file_extension": ".py",
   "mimetype": "text/x-python",
   "name": "python",
   "nbconvert_exporter": "python",
   "pygments_lexer": "ipython3",
   "version": "3.7.6"
  }
 },
 "nbformat": 4,
 "nbformat_minor": 4
}
